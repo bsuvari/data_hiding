{
  "nbformat": 4,
  "nbformat_minor": 0,
  "metadata": {
    "colab": {
      "name": "Welcome To Colaboratory",
      "provenance": [],
      "collapsed_sections": []
    },
    "kernelspec": {
      "display_name": "Python 3",
      "name": "python3"
    }
  },
  "cells": [
    {
      "cell_type": "code",
      "metadata": {
        "id": "KmqEHPan6cC-",
        "outputId": "975ef669-f94e-408e-ed7e-c0ee5a9da06a",
        "colab": {
          "base_uri": "https://localhost:8080/"
        }
      },
      "source": [
        "!unzip /content/images.zip -d /content/"
      ],
      "execution_count": 36,
      "outputs": [
        {
          "output_type": "stream",
          "text": [
            "unzip:  cannot find or open /content/images.zip, /content/images.zip.zip or /content/images.zip.ZIP.\n"
          ],
          "name": "stdout"
        }
      ]
    },
    {
      "cell_type": "code",
      "metadata": {
        "id": "elAeIM5ddGrI",
        "outputId": "2f639630-e0e4-4982-91eb-f06b019abdcd",
        "colab": {
          "base_uri": "https://localhost:8080/"
        }
      },
      "source": [
        "import numpy as np\n",
        "from PIL import Image\n",
        "import os\n",
        "import random\n",
        "import time\n",
        "\n",
        "\n",
        "class dataHiding:\n",
        "    \n",
        "    def __init__(self, path):\n",
        "      self.path = path\n",
        "      self.pixel_image, self.image = self.get_host(path)\n",
        "\n",
        "\n",
        "\n",
        "\n",
        "    def get_host(self, path):\n",
        "\n",
        "\n",
        "\n",
        "      #image = Image.open(\"./host.jpg\")\n",
        "      image = Image.open(\"./host.jpg\").convert('L')\n",
        "      image = image.resize((256, 256))\n",
        "\n",
        "      pixels_image = image.load() \n",
        "\n",
        "      #img_width, img_height, = image.size #Size of the image I want\n",
        "\n",
        "      return image, pixels_image\n",
        "\n",
        "    #image, pixels_image = get_host()\n",
        "\n",
        "    def secret(self, path):\n",
        "\n",
        "      img_sec = Image.open(\"./sec.jpg\").convert('L')\n",
        "      img_sec = img_sec.resize((256, 256))\n",
        "      pixels_img_sec = img_sec.load()\n",
        "\n",
        "      return img_sec, pixels_img_sec\n",
        "\n",
        "\n",
        "    #img_sec, pixels_img_sec = secret()\n",
        "\n",
        "    def listToString(self, s): \n",
        "        \n",
        "        # initialize an empty string\n",
        "        str1 = \"\" \n",
        "        \n",
        "        # traverse in the string  \n",
        "        for ele in s: \n",
        "            str1 += ele  \n",
        "        \n",
        "        # return string  \n",
        "        return str1\n",
        "\n",
        "    def embedding(self, pixels_img_sec, filename):\n",
        "\n",
        "      for i in range(256):\n",
        "          for j in range(256):\n",
        "              binary_x=format(pixels_image[i,j],'08b')\n",
        "              \n",
        "              binary_x = list(binary_x)\n",
        "\n",
        "              \n",
        "              binary_x[7]=format(pixels_img_sec[i,j],'08b')[0]\n",
        "              binary_x[6]=format(pixels_img_sec[i,j],'08b')[1]\n",
        "              binary_x[5]=format(pixels_img_sec[i,j],'08b')[2]\n",
        "\n",
        "\n",
        "              \n",
        "              str_pix_x=listToString(binary_x)\n",
        "\n",
        "              pixels_image[i,j]=(int(str_pix_x,2))\n",
        "\n",
        "      \n",
        "\n",
        "      image1 = image.save(\"gomulu.jpg\")\n",
        "\n",
        "    start_time = time.time()\n",
        "    #embedding(self)\n",
        "\n",
        "    x = random.randint(0,255)\n",
        "    y = x\n",
        "    x = bytearray(x)\n",
        "\n",
        "\n",
        "    try:\n",
        "        # take path of image as a input\n",
        "        \n",
        "        #path = \"./gomulu.jpg\"\n",
        "          \n",
        "        # taking encryption key as input\n",
        "\n",
        "        file_a = open(\"./key.txt\", 'wb')\n",
        "        key1 = file_a.write(x)\n",
        "      \n",
        "        print(\"mahmut\")\n",
        "        #file_a.close()\n",
        "          \n",
        "        # print path of image file and encryption key that\n",
        "        # we are using\n",
        "    \n",
        "          \n",
        "        # open file for reading purpose\n",
        "        fin = open(\"./gomulu.jpg\", 'rb')\n",
        "\n",
        "        print(\"mahmut\")\n",
        "\n",
        "        # storing image data in variable \"image\"\n",
        "        image1 = fin.read()\n",
        "\n",
        "        #fin.close()\n",
        "        \n",
        "        # converting image into byte array to \n",
        "        # perform encryption easily on numeric data\n",
        "        image1 = bytearray(image1)\n",
        "\n",
        "\n",
        "\n",
        "        # performing XOR operation on each value of bytearray\n",
        "        for index, values in enumerate(image1):\n",
        "        \n",
        "            image1[index] = values ^ key1\n",
        "        \n",
        "      \n",
        "        # opening file for writting purpose\n",
        "        fin = open(\"./gomulu.jpg\", 'wb')\n",
        "          \n",
        "        # writing encrypted data in image\n",
        "        fin.write(image1)\n",
        "\n",
        "        #fin.close()\n",
        "        os.remove(\"key.txt\")\n",
        "        FPS = 1.0 / (time.time() - start_time)\n",
        "        print(FPS)\n",
        "    except Exception:\n",
        "        print('Error caught : ', Exception.__name__)# try block to handle exception\n",
        "\n",
        "\n",
        "\"\"\"data = dataHiding()\n",
        "\n",
        "data.get_host(self)\n",
        "data.secret(self)\n",
        "data.embedding(self)\"\"\"\n",
        "a = dataHiding(\"./host.jpg\")"
      ],
      "execution_count": 33,
      "outputs": [
        {
          "output_type": "stream",
          "text": [
            "mahmut\n",
            "Error caught :  Exception\n"
          ],
          "name": "stdout"
        }
      ]
    },
    {
      "cell_type": "code",
      "metadata": {
        "id": "wzk3KPFYdGtY"
      },
      "source": [
        "def load_images_from_folder(folder):\n",
        "    for filename in os.listdir(folder):\n",
        "        start_time = time.time()\n",
        "        pixels_img_sec=a.secret(os.path.join(folder,filename))\n",
        "        pixels_image=a.embedding(pixels_img_sec,filename[:-4])\n",
        "        FPS = 1.0 / (time.time() - start_time)\n",
        "        print(FPS)\n",
        "        #ghost.decrypt_Data(host_pixel)"
      ],
      "execution_count": 34,
      "outputs": []
    },
    {
      "cell_type": "code",
      "metadata": {
        "id": "FhCS_J-jdGxn"
      },
      "source": [
        ""
      ],
      "execution_count": null,
      "outputs": []
    }
  ]
}